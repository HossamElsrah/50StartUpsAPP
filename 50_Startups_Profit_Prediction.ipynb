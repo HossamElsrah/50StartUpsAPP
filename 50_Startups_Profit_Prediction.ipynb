{
  "cells": [
    {
      "cell_type": "code",
      "execution_count": 323,
      "metadata": {
        "id": "Ot09ZwqQeh5u"
      },
      "outputs": [],
      "source": [
        "import numpy as np\n",
        "import pandas as pd\n",
        "import matplotlib.pyplot as plt\n",
        "import seaborn as sns\n",
        "sns.set()"
      ]
    },
    {
      "cell_type": "markdown",
      "metadata": {},
      "source": [
        "# Get The Data"
      ]
    },
    {
      "cell_type": "code",
      "execution_count": 324,
      "metadata": {
        "colab": {
          "base_uri": "https://localhost:8080/",
          "height": 244
        },
        "id": "ZNJqtSmggHky",
        "outputId": "0e8b0043-12e4-4731-da45-b6e472b55924"
      },
      "outputs": [
        {
          "data": {
            "text/html": [
              "<div>\n",
              "<style scoped>\n",
              "    .dataframe tbody tr th:only-of-type {\n",
              "        vertical-align: middle;\n",
              "    }\n",
              "\n",
              "    .dataframe tbody tr th {\n",
              "        vertical-align: top;\n",
              "    }\n",
              "\n",
              "    .dataframe thead th {\n",
              "        text-align: right;\n",
              "    }\n",
              "</style>\n",
              "<table border=\"1\" class=\"dataframe\">\n",
              "  <thead>\n",
              "    <tr style=\"text-align: right;\">\n",
              "      <th></th>\n",
              "      <th>RD Spend</th>\n",
              "      <th>Administration</th>\n",
              "      <th>Marketing Spend</th>\n",
              "      <th>State</th>\n",
              "      <th>Profit</th>\n",
              "    </tr>\n",
              "  </thead>\n",
              "  <tbody>\n",
              "    <tr>\n",
              "      <th>0</th>\n",
              "      <td>165349.20</td>\n",
              "      <td>136897.80</td>\n",
              "      <td>471784.10</td>\n",
              "      <td>New York</td>\n",
              "      <td>192261.83</td>\n",
              "    </tr>\n",
              "    <tr>\n",
              "      <th>1</th>\n",
              "      <td>162597.70</td>\n",
              "      <td>151377.59</td>\n",
              "      <td>443898.53</td>\n",
              "      <td>California</td>\n",
              "      <td>191792.06</td>\n",
              "    </tr>\n",
              "    <tr>\n",
              "      <th>2</th>\n",
              "      <td>153441.51</td>\n",
              "      <td>101145.55</td>\n",
              "      <td>407934.54</td>\n",
              "      <td>Florida</td>\n",
              "      <td>191050.39</td>\n",
              "    </tr>\n",
              "    <tr>\n",
              "      <th>3</th>\n",
              "      <td>144372.41</td>\n",
              "      <td>118671.85</td>\n",
              "      <td>383199.62</td>\n",
              "      <td>New York</td>\n",
              "      <td>182901.99</td>\n",
              "    </tr>\n",
              "    <tr>\n",
              "      <th>4</th>\n",
              "      <td>142107.34</td>\n",
              "      <td>91391.77</td>\n",
              "      <td>366168.42</td>\n",
              "      <td>Florida</td>\n",
              "      <td>166187.94</td>\n",
              "    </tr>\n",
              "    <tr>\n",
              "      <th>5</th>\n",
              "      <td>131876.90</td>\n",
              "      <td>99814.71</td>\n",
              "      <td>362861.36</td>\n",
              "      <td>New York</td>\n",
              "      <td>156991.12</td>\n",
              "    </tr>\n",
              "    <tr>\n",
              "      <th>6</th>\n",
              "      <td>134615.46</td>\n",
              "      <td>147198.87</td>\n",
              "      <td>127716.82</td>\n",
              "      <td>California</td>\n",
              "      <td>156122.51</td>\n",
              "    </tr>\n",
              "    <tr>\n",
              "      <th>7</th>\n",
              "      <td>130298.13</td>\n",
              "      <td>145530.06</td>\n",
              "      <td>323876.68</td>\n",
              "      <td>Florida</td>\n",
              "      <td>155752.60</td>\n",
              "    </tr>\n",
              "    <tr>\n",
              "      <th>8</th>\n",
              "      <td>120542.52</td>\n",
              "      <td>148718.95</td>\n",
              "      <td>311613.29</td>\n",
              "      <td>New York</td>\n",
              "      <td>152211.77</td>\n",
              "    </tr>\n",
              "    <tr>\n",
              "      <th>9</th>\n",
              "      <td>123334.88</td>\n",
              "      <td>108679.17</td>\n",
              "      <td>304981.62</td>\n",
              "      <td>California</td>\n",
              "      <td>149759.96</td>\n",
              "    </tr>\n",
              "  </tbody>\n",
              "</table>\n",
              "</div>"
            ],
            "text/plain": [
              "    RD Spend  Administration  Marketing Spend       State     Profit\n",
              "0  165349.20       136897.80        471784.10    New York  192261.83\n",
              "1  162597.70       151377.59        443898.53  California  191792.06\n",
              "2  153441.51       101145.55        407934.54     Florida  191050.39\n",
              "3  144372.41       118671.85        383199.62    New York  182901.99\n",
              "4  142107.34        91391.77        366168.42     Florida  166187.94\n",
              "5  131876.90        99814.71        362861.36    New York  156991.12\n",
              "6  134615.46       147198.87        127716.82  California  156122.51\n",
              "7  130298.13       145530.06        323876.68     Florida  155752.60\n",
              "8  120542.52       148718.95        311613.29    New York  152211.77\n",
              "9  123334.88       108679.17        304981.62  California  149759.96"
            ]
          },
          "execution_count": 324,
          "metadata": {},
          "output_type": "execute_result"
        }
      ],
      "source": [
        "startups = pd.read_csv('C:/Users/hpc/OneDrive/Desktop/DT/ML/50 startups app ml/50_Startups.csv')\n",
        "startups.head(10)"
      ]
    },
    {
      "cell_type": "code",
      "execution_count": 325,
      "metadata": {},
      "outputs": [],
      "source": [
        "startups['R&D_Spend'] = startups['RD Spend']\n",
        "startups['Marketing_Spend'] = startups['Marketing Spend']"
      ]
    },
    {
      "cell_type": "code",
      "execution_count": 326,
      "metadata": {},
      "outputs": [],
      "source": [
        "startups.drop('RD Spend', axis=1, inplace=True)\n",
        "startups.drop('Marketing Spend', axis=1, inplace=True)"
      ]
    },
    {
      "cell_type": "code",
      "execution_count": 327,
      "metadata": {},
      "outputs": [],
      "source": [
        "# Saving a DataFrame to a CSV file\n",
        "startups.to_csv('new_50startups.csv', index=False)"
      ]
    },
    {
      "cell_type": "code",
      "execution_count": 328,
      "metadata": {},
      "outputs": [
        {
          "data": {
            "text/html": [
              "<div>\n",
              "<style scoped>\n",
              "    .dataframe tbody tr th:only-of-type {\n",
              "        vertical-align: middle;\n",
              "    }\n",
              "\n",
              "    .dataframe tbody tr th {\n",
              "        vertical-align: top;\n",
              "    }\n",
              "\n",
              "    .dataframe thead th {\n",
              "        text-align: right;\n",
              "    }\n",
              "</style>\n",
              "<table border=\"1\" class=\"dataframe\">\n",
              "  <thead>\n",
              "    <tr style=\"text-align: right;\">\n",
              "      <th></th>\n",
              "      <th>Administration</th>\n",
              "      <th>State</th>\n",
              "      <th>Profit</th>\n",
              "      <th>R&amp;D_Spend</th>\n",
              "      <th>Marketing_Spend</th>\n",
              "    </tr>\n",
              "  </thead>\n",
              "  <tbody>\n",
              "    <tr>\n",
              "      <th>0</th>\n",
              "      <td>136897.80</td>\n",
              "      <td>New York</td>\n",
              "      <td>192261.83</td>\n",
              "      <td>165349.20</td>\n",
              "      <td>471784.10</td>\n",
              "    </tr>\n",
              "    <tr>\n",
              "      <th>1</th>\n",
              "      <td>151377.59</td>\n",
              "      <td>California</td>\n",
              "      <td>191792.06</td>\n",
              "      <td>162597.70</td>\n",
              "      <td>443898.53</td>\n",
              "    </tr>\n",
              "    <tr>\n",
              "      <th>2</th>\n",
              "      <td>101145.55</td>\n",
              "      <td>Florida</td>\n",
              "      <td>191050.39</td>\n",
              "      <td>153441.51</td>\n",
              "      <td>407934.54</td>\n",
              "    </tr>\n",
              "    <tr>\n",
              "      <th>3</th>\n",
              "      <td>118671.85</td>\n",
              "      <td>New York</td>\n",
              "      <td>182901.99</td>\n",
              "      <td>144372.41</td>\n",
              "      <td>383199.62</td>\n",
              "    </tr>\n",
              "    <tr>\n",
              "      <th>4</th>\n",
              "      <td>91391.77</td>\n",
              "      <td>Florida</td>\n",
              "      <td>166187.94</td>\n",
              "      <td>142107.34</td>\n",
              "      <td>366168.42</td>\n",
              "    </tr>\n",
              "    <tr>\n",
              "      <th>5</th>\n",
              "      <td>99814.71</td>\n",
              "      <td>New York</td>\n",
              "      <td>156991.12</td>\n",
              "      <td>131876.90</td>\n",
              "      <td>362861.36</td>\n",
              "    </tr>\n",
              "    <tr>\n",
              "      <th>6</th>\n",
              "      <td>147198.87</td>\n",
              "      <td>California</td>\n",
              "      <td>156122.51</td>\n",
              "      <td>134615.46</td>\n",
              "      <td>127716.82</td>\n",
              "    </tr>\n",
              "    <tr>\n",
              "      <th>7</th>\n",
              "      <td>145530.06</td>\n",
              "      <td>Florida</td>\n",
              "      <td>155752.60</td>\n",
              "      <td>130298.13</td>\n",
              "      <td>323876.68</td>\n",
              "    </tr>\n",
              "    <tr>\n",
              "      <th>8</th>\n",
              "      <td>148718.95</td>\n",
              "      <td>New York</td>\n",
              "      <td>152211.77</td>\n",
              "      <td>120542.52</td>\n",
              "      <td>311613.29</td>\n",
              "    </tr>\n",
              "    <tr>\n",
              "      <th>9</th>\n",
              "      <td>108679.17</td>\n",
              "      <td>California</td>\n",
              "      <td>149759.96</td>\n",
              "      <td>123334.88</td>\n",
              "      <td>304981.62</td>\n",
              "    </tr>\n",
              "  </tbody>\n",
              "</table>\n",
              "</div>"
            ],
            "text/plain": [
              "   Administration       State     Profit  R&D_Spend  Marketing_Spend\n",
              "0       136897.80    New York  192261.83  165349.20        471784.10\n",
              "1       151377.59  California  191792.06  162597.70        443898.53\n",
              "2       101145.55     Florida  191050.39  153441.51        407934.54\n",
              "3       118671.85    New York  182901.99  144372.41        383199.62\n",
              "4        91391.77     Florida  166187.94  142107.34        366168.42\n",
              "5        99814.71    New York  156991.12  131876.90        362861.36\n",
              "6       147198.87  California  156122.51  134615.46        127716.82\n",
              "7       145530.06     Florida  155752.60  130298.13        323876.68\n",
              "8       148718.95    New York  152211.77  120542.52        311613.29\n",
              "9       108679.17  California  149759.96  123334.88        304981.62"
            ]
          },
          "execution_count": 328,
          "metadata": {},
          "output_type": "execute_result"
        }
      ],
      "source": [
        "startups = pd.read_csv('C:/Users/hpc/OneDrive/Desktop/DT/ML/50 startups app ml/new_50startups.csv')\n",
        "startups.head(10)"
      ]
    },
    {
      "cell_type": "code",
      "execution_count": 329,
      "metadata": {},
      "outputs": [
        {
          "data": {
            "text/html": [
              "<div>\n",
              "<style scoped>\n",
              "    .dataframe tbody tr th:only-of-type {\n",
              "        vertical-align: middle;\n",
              "    }\n",
              "\n",
              "    .dataframe tbody tr th {\n",
              "        vertical-align: top;\n",
              "    }\n",
              "\n",
              "    .dataframe thead th {\n",
              "        text-align: right;\n",
              "    }\n",
              "</style>\n",
              "<table border=\"1\" class=\"dataframe\">\n",
              "  <thead>\n",
              "    <tr style=\"text-align: right;\">\n",
              "      <th></th>\n",
              "      <th>Administration</th>\n",
              "      <th>State</th>\n",
              "      <th>Profit</th>\n",
              "      <th>R&amp;D_Spend</th>\n",
              "      <th>Marketing_Spend</th>\n",
              "    </tr>\n",
              "  </thead>\n",
              "  <tbody>\n",
              "    <tr>\n",
              "      <th>0</th>\n",
              "      <td>136897.80</td>\n",
              "      <td>New York</td>\n",
              "      <td>192261.83</td>\n",
              "      <td>165349.20</td>\n",
              "      <td>471784.10</td>\n",
              "    </tr>\n",
              "    <tr>\n",
              "      <th>1</th>\n",
              "      <td>151377.59</td>\n",
              "      <td>California</td>\n",
              "      <td>191792.06</td>\n",
              "      <td>162597.70</td>\n",
              "      <td>443898.53</td>\n",
              "    </tr>\n",
              "    <tr>\n",
              "      <th>2</th>\n",
              "      <td>101145.55</td>\n",
              "      <td>Florida</td>\n",
              "      <td>191050.39</td>\n",
              "      <td>153441.51</td>\n",
              "      <td>407934.54</td>\n",
              "    </tr>\n",
              "    <tr>\n",
              "      <th>3</th>\n",
              "      <td>118671.85</td>\n",
              "      <td>New York</td>\n",
              "      <td>182901.99</td>\n",
              "      <td>144372.41</td>\n",
              "      <td>383199.62</td>\n",
              "    </tr>\n",
              "    <tr>\n",
              "      <th>4</th>\n",
              "      <td>91391.77</td>\n",
              "      <td>Florida</td>\n",
              "      <td>166187.94</td>\n",
              "      <td>142107.34</td>\n",
              "      <td>366168.42</td>\n",
              "    </tr>\n",
              "  </tbody>\n",
              "</table>\n",
              "</div>"
            ],
            "text/plain": [
              "   Administration       State     Profit  R&D_Spend  Marketing_Spend\n",
              "0       136897.80    New York  192261.83  165349.20        471784.10\n",
              "1       151377.59  California  191792.06  162597.70        443898.53\n",
              "2       101145.55     Florida  191050.39  153441.51        407934.54\n",
              "3       118671.85    New York  182901.99  144372.41        383199.62\n",
              "4        91391.77     Florida  166187.94  142107.34        366168.42"
            ]
          },
          "execution_count": 329,
          "metadata": {},
          "output_type": "execute_result"
        }
      ],
      "source": [
        "startups.head(5)"
      ]
    },
    {
      "cell_type": "code",
      "execution_count": 330,
      "metadata": {
        "colab": {
          "base_uri": "https://localhost:8080/"
        },
        "id": "cz3HH3NHhDLp",
        "outputId": "cc4b6c75-86e4-45b1-f5bd-48915067473c"
      },
      "outputs": [
        {
          "name": "stdout",
          "output_type": "stream",
          "text": [
            "<class 'pandas.core.frame.DataFrame'>\n",
            "RangeIndex: 50 entries, 0 to 49\n",
            "Data columns (total 5 columns):\n",
            " #   Column           Non-Null Count  Dtype  \n",
            "---  ------           --------------  -----  \n",
            " 0   Administration   50 non-null     float64\n",
            " 1   State            50 non-null     object \n",
            " 2   Profit           50 non-null     float64\n",
            " 3   R&D_Spend        50 non-null     float64\n",
            " 4   Marketing_Spend  50 non-null     float64\n",
            "dtypes: float64(4), object(1)\n",
            "memory usage: 2.1+ KB\n"
          ]
        }
      ],
      "source": [
        "startups.info()"
      ]
    },
    {
      "cell_type": "code",
      "execution_count": 331,
      "metadata": {
        "colab": {
          "base_uri": "https://localhost:8080/",
          "height": 300
        },
        "id": "c2OT1uH0hxkJ",
        "outputId": "6e9948c6-4ddc-4f8c-d9db-140e390e9fe2"
      },
      "outputs": [
        {
          "data": {
            "text/html": [
              "<div>\n",
              "<style scoped>\n",
              "    .dataframe tbody tr th:only-of-type {\n",
              "        vertical-align: middle;\n",
              "    }\n",
              "\n",
              "    .dataframe tbody tr th {\n",
              "        vertical-align: top;\n",
              "    }\n",
              "\n",
              "    .dataframe thead th {\n",
              "        text-align: right;\n",
              "    }\n",
              "</style>\n",
              "<table border=\"1\" class=\"dataframe\">\n",
              "  <thead>\n",
              "    <tr style=\"text-align: right;\">\n",
              "      <th></th>\n",
              "      <th>Administration</th>\n",
              "      <th>Profit</th>\n",
              "      <th>R&amp;D_Spend</th>\n",
              "      <th>Marketing_Spend</th>\n",
              "    </tr>\n",
              "  </thead>\n",
              "  <tbody>\n",
              "    <tr>\n",
              "      <th>count</th>\n",
              "      <td>50.000000</td>\n",
              "      <td>50.000000</td>\n",
              "      <td>50.000000</td>\n",
              "      <td>50.000000</td>\n",
              "    </tr>\n",
              "    <tr>\n",
              "      <th>mean</th>\n",
              "      <td>121344.639600</td>\n",
              "      <td>112012.639200</td>\n",
              "      <td>73721.615600</td>\n",
              "      <td>211025.097800</td>\n",
              "    </tr>\n",
              "    <tr>\n",
              "      <th>std</th>\n",
              "      <td>28017.802755</td>\n",
              "      <td>40306.180338</td>\n",
              "      <td>45902.256482</td>\n",
              "      <td>122290.310726</td>\n",
              "    </tr>\n",
              "    <tr>\n",
              "      <th>min</th>\n",
              "      <td>51283.140000</td>\n",
              "      <td>14681.400000</td>\n",
              "      <td>0.000000</td>\n",
              "      <td>0.000000</td>\n",
              "    </tr>\n",
              "    <tr>\n",
              "      <th>25%</th>\n",
              "      <td>103730.875000</td>\n",
              "      <td>90138.902500</td>\n",
              "      <td>39936.370000</td>\n",
              "      <td>129300.132500</td>\n",
              "    </tr>\n",
              "    <tr>\n",
              "      <th>50%</th>\n",
              "      <td>122699.795000</td>\n",
              "      <td>107978.190000</td>\n",
              "      <td>73051.080000</td>\n",
              "      <td>212716.240000</td>\n",
              "    </tr>\n",
              "    <tr>\n",
              "      <th>75%</th>\n",
              "      <td>144842.180000</td>\n",
              "      <td>139765.977500</td>\n",
              "      <td>101602.800000</td>\n",
              "      <td>299469.085000</td>\n",
              "    </tr>\n",
              "    <tr>\n",
              "      <th>max</th>\n",
              "      <td>182645.560000</td>\n",
              "      <td>192261.830000</td>\n",
              "      <td>165349.200000</td>\n",
              "      <td>471784.100000</td>\n",
              "    </tr>\n",
              "  </tbody>\n",
              "</table>\n",
              "</div>"
            ],
            "text/plain": [
              "       Administration         Profit      R&D_Spend  Marketing_Spend\n",
              "count       50.000000      50.000000      50.000000        50.000000\n",
              "mean    121344.639600  112012.639200   73721.615600    211025.097800\n",
              "std      28017.802755   40306.180338   45902.256482    122290.310726\n",
              "min      51283.140000   14681.400000       0.000000         0.000000\n",
              "25%     103730.875000   90138.902500   39936.370000    129300.132500\n",
              "50%     122699.795000  107978.190000   73051.080000    212716.240000\n",
              "75%     144842.180000  139765.977500  101602.800000    299469.085000\n",
              "max     182645.560000  192261.830000  165349.200000    471784.100000"
            ]
          },
          "execution_count": 331,
          "metadata": {},
          "output_type": "execute_result"
        }
      ],
      "source": [
        "startups.describe()"
      ]
    },
    {
      "cell_type": "code",
      "execution_count": 332,
      "metadata": {
        "colab": {
          "base_uri": "https://localhost:8080/",
          "height": 529
        },
        "id": "MBJMna21ZXtt",
        "outputId": "52efb9f5-4462-41db-a78f-9a8e52d7f557"
      },
      "outputs": [
        {
          "data": {
            "text/plain": [
              "array([[<Axes: title={'center': 'Administration'}>,\n",
              "        <Axes: title={'center': 'Profit'}>],\n",
              "       [<Axes: title={'center': 'R&D_Spend'}>,\n",
              "        <Axes: title={'center': 'Marketing_Spend'}>]], dtype=object)"
            ]
          },
          "execution_count": 332,
          "metadata": {},
          "output_type": "execute_result"
        },
        {
          "data": {
            "image/png": "[encoded data removed]",
            "text/plain": [
              "<Figure size 640x480 with 4 Axes>"
            ]
          },
          "metadata": {},
          "output_type": "display_data"
        }
      ],
      "source": [
        "startups.hist( bins=20)"
      ]
    },
    {
      "cell_type": "markdown",
      "metadata": {
        "id": "Vo6PbUlccX-z"
      },
      "source": [
        "the data is in different scale"
      ]
    },
    {
      "cell_type": "code",
      "execution_count": 333,
      "metadata": {
        "id": "quJIpDafcfM3"
      },
      "outputs": [],
      "source": [
        "from sklearn.model_selection import train_test_split\n",
        "train_data , test_data = train_test_split(startups , test_size=0.2 , random_state=0)"
      ]
    },
    {
      "cell_type": "code",
      "execution_count": 334,
      "metadata": {
        "colab": {
          "base_uri": "https://localhost:8080/"
        },
        "id": "x73f1qDPfgUF",
        "outputId": "3d59cd17-0440-4543-e54a-39aee4932471"
      },
      "outputs": [
        {
          "data": {
            "text/plain": [
              "((40, 5), (10, 5))"
            ]
          },
          "execution_count": 334,
          "metadata": {},
          "output_type": "execute_result"
        }
      ],
      "source": [
        "train_data.shape , test_data.shape"
      ]
    },
    {
      "cell_type": "code",
      "execution_count": 335,
      "metadata": {
        "colab": {
          "base_uri": "https://localhost:8080/"
        },
        "id": "9fXv5L1Tgv13",
        "outputId": "95d7c826-290b-45dc-a519-c3827175e24d"
      },
      "outputs": [
        {
          "data": {
            "text/plain": [
              "(count        40.000000\n",
              " mean     109446.447250\n",
              " std       40981.182781\n",
              " min       14681.400000\n",
              " 25%       87713.295000\n",
              " 50%      107978.190000\n",
              " 75%      133028.825000\n",
              " max      192261.830000\n",
              " Name: Profit, dtype: float64,\n",
              " count        10.00000\n",
              " mean     122277.40700\n",
              " std       37696.02975\n",
              " min       77798.83000\n",
              " 25%       98933.26500\n",
              " 50%      107680.28000\n",
              " 75%      145656.31250\n",
              " max      191050.39000\n",
              " Name: Profit, dtype: float64)"
            ]
          },
          "execution_count": 335,
          "metadata": {},
          "output_type": "execute_result"
        }
      ],
      "source": [
        "train_data.Profit.describe() , test_data.Profit.describe()"
      ]
    },
    {
      "cell_type": "markdown",
      "metadata": {},
      "source": [
        "# EDA"
      ]
    },
    {
      "cell_type": "code",
      "execution_count": 336,
      "metadata": {
        "colab": {
          "base_uri": "https://localhost:8080/"
        },
        "id": "obTFSYcXipS9",
        "outputId": "cfa7ccf1-05b3-4776-b3ad-3f5b32c49d3e"
      },
      "outputs": [
        {
          "data": {
            "text/plain": [
              "Profit             1.000000\n",
              "R&D_Spend          0.972090\n",
              "Marketing_Spend    0.750735\n",
              "Administration     0.332579\n",
              "Name: Profit, dtype: float64"
            ]
          },
          "execution_count": 336,
          "metadata": {},
          "output_type": "execute_result"
        }
      ],
      "source": [
        "train_data.select_dtypes(include=['number']).corr()['Profit'].nlargest()"
      ]
    },
    {
      "cell_type": "code",
      "execution_count": 337,
      "metadata": {
        "colab": {
          "base_uri": "https://localhost:8080/",
          "height": 862
        },
        "id": "mElO61tNo34N",
        "outputId": "cf738727-8925-4fb3-b22e-279726c7b1b6"
      },
      "outputs": [
        {
          "data": {
            "text/plain": [
              "<seaborn.axisgrid.PairGrid at 0x2ac16a12540>"
            ]
          },
          "execution_count": 337,
          "metadata": {},
          "output_type": "execute_result"
        },
        {
          "data": {
            "image/png": "[encoded data removed]",
            "text/plain": [
              "<Figure size 1000x1000 with 20 Axes>"
            ]
          },
          "metadata": {},
          "output_type": "display_data"
        }
      ],
      "source": [
        "sns.pairplot(train_data)"
      ]
    },
    {
      "cell_type": "code",
      "execution_count": 338,
      "metadata": {},
      "outputs": [
        {
          "data": {
            "image/png": "[encoded data removed]",
            "text/plain": [
              "<Figure size 640x480 with 1 Axes>"
            ]
          },
          "metadata": {},
          "output_type": "display_data"
        }
      ],
      "source": [
        "sns.scatterplot(data=train_data, x='R&D_Spend', y='Profit')\n",
        "plt.show()"
      ]
    },
    {
      "cell_type": "markdown",
      "metadata": {
        "id": "5TZ4Ap6HpvgX"
      },
      "source": [
        " The most promising attribute to predict the Profit is the R&D Spend"
      ]
    },
    {
      "cell_type": "markdown",
      "metadata": {},
      "source": [
        "# Cleaning Data"
      ]
    },
    {
      "cell_type": "code",
      "execution_count": 339,
      "metadata": {},
      "outputs": [
        {
          "name": "stdout",
          "output_type": "stream",
          "text": [
            "<class 'pandas.core.frame.DataFrame'>\n",
            "RangeIndex: 50 entries, 0 to 49\n",
            "Data columns (total 5 columns):\n",
            " #   Column           Non-Null Count  Dtype  \n",
            "---  ------           --------------  -----  \n",
            " 0   Administration   50 non-null     float64\n",
            " 1   State            50 non-null     object \n",
            " 2   Profit           50 non-null     float64\n",
            " 3   R&D_Spend        50 non-null     float64\n",
            " 4   Marketing_Spend  50 non-null     float64\n",
            "dtypes: float64(4), object(1)\n",
            "memory usage: 2.1+ KB\n"
          ]
        }
      ],
      "source": [
        "startups.info()"
      ]
    },
    {
      "cell_type": "markdown",
      "metadata": {},
      "source": [
        "* no missing values"
      ]
    },
    {
      "cell_type": "code",
      "execution_count": 340,
      "metadata": {},
      "outputs": [
        {
          "data": {
            "text/html": [
              "<div>\n",
              "<style scoped>\n",
              "    .dataframe tbody tr th:only-of-type {\n",
              "        vertical-align: middle;\n",
              "    }\n",
              "\n",
              "    .dataframe tbody tr th {\n",
              "        vertical-align: top;\n",
              "    }\n",
              "\n",
              "    .dataframe thead th {\n",
              "        text-align: right;\n",
              "    }\n",
              "</style>\n",
              "<table border=\"1\" class=\"dataframe\">\n",
              "  <thead>\n",
              "    <tr style=\"text-align: right;\">\n",
              "      <th></th>\n",
              "      <th>Administration</th>\n",
              "      <th>Profit</th>\n",
              "      <th>R&amp;D_Spend</th>\n",
              "      <th>Marketing_Spend</th>\n",
              "    </tr>\n",
              "  </thead>\n",
              "  <tbody>\n",
              "    <tr>\n",
              "      <th>0.25</th>\n",
              "      <td>103730.8750</td>\n",
              "      <td>90138.9025</td>\n",
              "      <td>39936.370</td>\n",
              "      <td>129300.1325</td>\n",
              "    </tr>\n",
              "    <tr>\n",
              "      <th>0.50</th>\n",
              "      <td>122699.7950</td>\n",
              "      <td>107978.1900</td>\n",
              "      <td>73051.080</td>\n",
              "      <td>212716.2400</td>\n",
              "    </tr>\n",
              "    <tr>\n",
              "      <th>0.75</th>\n",
              "      <td>144842.1800</td>\n",
              "      <td>139765.9775</td>\n",
              "      <td>101602.800</td>\n",
              "      <td>299469.0850</td>\n",
              "    </tr>\n",
              "    <tr>\n",
              "      <th>0.90</th>\n",
              "      <td>153540.0420</td>\n",
              "      <td>157910.8020</td>\n",
              "      <td>135364.648</td>\n",
              "      <td>363192.0660</td>\n",
              "    </tr>\n",
              "    <tr>\n",
              "      <th>0.95</th>\n",
              "      <td>155763.8440</td>\n",
              "      <td>187383.6100</td>\n",
              "      <td>149360.415</td>\n",
              "      <td>396803.8260</td>\n",
              "    </tr>\n",
              "    <tr>\n",
              "      <th>0.99</th>\n",
              "      <td>170419.2564</td>\n",
              "      <td>192031.6427</td>\n",
              "      <td>164000.965</td>\n",
              "      <td>458120.1707</td>\n",
              "    </tr>\n",
              "    <tr>\n",
              "      <th>1.00</th>\n",
              "      <td>182645.5600</td>\n",
              "      <td>192261.8300</td>\n",
              "      <td>165349.200</td>\n",
              "      <td>471784.1000</td>\n",
              "    </tr>\n",
              "  </tbody>\n",
              "</table>\n",
              "</div>"
            ],
            "text/plain": [
              "      Administration       Profit   R&D_Spend  Marketing_Spend\n",
              "0.25     103730.8750   90138.9025   39936.370      129300.1325\n",
              "0.50     122699.7950  107978.1900   73051.080      212716.2400\n",
              "0.75     144842.1800  139765.9775  101602.800      299469.0850\n",
              "0.90     153540.0420  157910.8020  135364.648      363192.0660\n",
              "0.95     155763.8440  187383.6100  149360.415      396803.8260\n",
              "0.99     170419.2564  192031.6427  164000.965      458120.1707\n",
              "1.00     182645.5600  192261.8300  165349.200      471784.1000"
            ]
          },
          "execution_count": 340,
          "metadata": {},
          "output_type": "execute_result"
        }
      ],
      "source": [
        "startups.select_dtypes(include=['number']).quantile([0.25, 0.5, 0.75, 0.9, 0.95, 0.99, 1])"
      ]
    },
    {
      "cell_type": "markdown",
      "metadata": {},
      "source": [
        "* no outliers"
      ]
    },
    {
      "cell_type": "markdown",
      "metadata": {},
      "source": [
        "There is not missing values and outlirs so the data already cleaned"
      ]
    },
    {
      "cell_type": "markdown",
      "metadata": {
        "id": "yVQa6rvirLS8"
      },
      "source": [
        "# Prepare the Data for Machine Learning Algorithms:"
      ]
    },
    {
      "cell_type": "code",
      "execution_count": 341,
      "metadata": {
        "id": "8pDxKcIGrNqN"
      },
      "outputs": [],
      "source": [
        "train_features = train_data.drop('Profit',axis=1)\n",
        "train_labels = train_data['Profit'].copy()"
      ]
    },
    {
      "cell_type": "code",
      "execution_count": 342,
      "metadata": {
        "id": "EpbGGQuw94Ew"
      },
      "outputs": [],
      "source": [
        "from sklearn.compose import ColumnTransformer\n",
        "from sklearn.pipeline import make_pipeline\n",
        "from sklearn.pipeline import Pipeline\n",
        "from sklearn.impute import SimpleImputer\n",
        "from sklearn.preprocessing import OneHotEncoder , StandardScaler\n",
        "\n",
        "num_attribs = train_features.select_dtypes(exclude='object').columns.tolist()\n",
        "cat_attribs = train_features.select_dtypes(include='object').columns.tolist()\n",
        "\n",
        "num_pipline = make_pipeline(SimpleImputer(),\n",
        "                            StandardScaler())\n",
        "\n",
        "cat_pipline = make_pipeline(SimpleImputer(strategy='most_frequent'),\n",
        "                             OneHotEncoder(categories=[['California', 'Florida', 'New York']],\n",
        "                                            sparse_output=False,  \n",
        "                                            drop='first'))\n",
        "\n",
        "full_pipline = ColumnTransformer(transformers=[ (\"num\", num_pipline, num_attribs),\n",
        "                                                (\"cat\", cat_pipline, cat_attribs)])\n",
        "\n",
        "train_features_prepared = full_pipline.fit_transform(train_features)"
      ]
    },
    {
      "cell_type": "markdown",
      "metadata": {
        "id": "eQaUyunjCUle"
      },
      "source": [
        "Decision Tree"
      ]
    },
    {
      "cell_type": "code",
      "execution_count": 343,
      "metadata": {
        "id": "mE-BP7y3CCzF"
      },
      "outputs": [],
      "source": [
        "# Decision Tree Regressor\n",
        "from sklearn.tree import DecisionTreeRegressor\n",
        "\n",
        "Tree = DecisionTreeRegressor()\n",
        "Tree.fit(train_features_prepared , train_labels)\n",
        "\n",
        "# Predictions\n",
        "tree_predictions = Tree.predict(train_features_prepared)"
      ]
    },
    {
      "cell_type": "code",
      "execution_count": 344,
      "metadata": {
        "colab": {
          "base_uri": "https://localhost:8080/"
        },
        "id": "5Do4gre-ENPv",
        "outputId": "27e35f6d-0877-419e-bcdd-90b8c68100b0"
      },
      "outputs": [
        {
          "name": "stdout",
          "output_type": "stream",
          "text": [
            "Training Accuracy is :  1.0\n"
          ]
        }
      ],
      "source": [
        "# Training Accuracy\n",
        "from sklearn.metrics import r2_score\n",
        "print('Training Accuracy is : ' , r2_score(train_labels , tree_predictions))"
      ]
    },
    {
      "cell_type": "markdown",
      "metadata": {},
      "source": [
        "* Decision Tree model is overfitting the data."
      ]
    },
    {
      "cell_type": "code",
      "execution_count": 345,
      "metadata": {
        "colab": {
          "base_uri": "https://localhost:8080/"
        },
        "id": "N1BXMLPjGLXw",
        "outputId": "378ba408-4700-4d5a-f589-e825af610f37"
      },
      "outputs": [
        {
          "name": "stdout",
          "output_type": "stream",
          "text": [
            "Scores :  [0.76082243 0.80389753 0.75051654 0.85948558 0.86194347]\n",
            "main of scores :  0.81\n",
            "std of scores :  0.05\n"
          ]
        }
      ],
      "source": [
        "# Cross Validation for Decision Tree\n",
        "from sklearn.model_selection import cross_val_score\n",
        "tree_scores = cross_val_score(Tree , train_features_prepared , train_labels , scoring = 'r2' , cv=5)\n",
        "\n",
        "print(\"Scores : \" , tree_scores)\n",
        "print('main of scores : ' , round(tree_scores.mean(),2))\n",
        "print('std of scores : ' , round(tree_scores.std(),2))"
      ]
    },
    {
      "cell_type": "markdown",
      "metadata": {
        "id": "_QWTVD1L_Ahx"
      },
      "source": [
        "Fine-Tune Your Model"
      ]
    },
    {
      "cell_type": "code",
      "execution_count": 346,
      "metadata": {
        "colab": {
          "base_uri": "https://localhost:8080/"
        },
        "id": "Gw1ocyQh--SR",
        "outputId": "791f0cba-179a-48ff-e675-c82c9030386f"
      },
      "outputs": [
        {
          "data": {
            "text/plain": [
              "{'max_depth': 4, 'max_features': 6}"
            ]
          },
          "execution_count": 346,
          "metadata": {},
          "output_type": "execute_result"
        }
      ],
      "source": [
        "# Find the best model using GridSearchCV\n",
        "from sklearn.model_selection import GridSearchCV\n",
        "\n",
        "param_grid = {'max_depth' : [2,3,4,5,6,7] , 'max_features' : [2,4,6,8,10]}\n",
        "GridSearchCV = GridSearchCV(Tree , param_grid ,scoring = 'r2' , cv=5)\n",
        "\n",
        "# fitting\n",
        "GridSearchCV.fit(train_features_prepared , train_labels)\n",
        "# best params\n",
        "GridSearchCV.best_params_"
      ]
    },
    {
      "cell_type": "code",
      "execution_count": 347,
      "metadata": {
        "colab": {
          "base_uri": "https://localhost:8080/"
        },
        "id": "ofW9FYH4Bedh",
        "outputId": "d46609ba-d1d2-4ee0-abef-b46b9780037f"
      },
      "outputs": [
        {
          "name": "stdout",
          "output_type": "stream",
          "text": [
            "Score :  0.9953922955593303\n"
          ]
        }
      ],
      "source": [
        "# try Cross Validation for Best Decision Tree\n",
        "tree_best = DecisionTreeRegressor(**GridSearchCV.best_params_)\n",
        "tree_best.fit(train_features_prepared , train_labels)\n",
        "\n",
        "# Predictions\n",
        "tree_best_predicitions = tree_best.predict(train_features_prepared)\n",
        "print(\"Score : \" , r2_score(train_labels , tree_best_predicitions))"
      ]
    },
    {
      "cell_type": "code",
      "execution_count": 348,
      "metadata": {
        "colab": {
          "base_uri": "https://localhost:8080/"
        },
        "id": "aFtHzbM4LtUj",
        "outputId": "a609cd87-8c12-40db-f154-cdf04174d823"
      },
      "outputs": [
        {
          "name": "stdout",
          "output_type": "stream",
          "text": [
            "Score of the Train Data:  0.9953922955593303\n",
            "Score of the Test Data:  0.9685303640793538\n"
          ]
        }
      ],
      "source": [
        "# Testing Accuracy\n",
        "test_features = test_data.drop('Profit',axis=1)\n",
        "test_labels = test_data['Profit'].copy()\n",
        "\n",
        "test_features_prepared = full_pipline.transform(test_features)\n",
        "\n",
        "tree_best_predicitions_test = tree_best.predict(test_features_prepared)\n",
        "\n",
        "print(\"Score of the Train Data: \" , r2_score(train_labels , tree_best_predicitions))\n",
        "print(\"Score of the Test Data: \" , r2_score(test_labels , tree_best_predicitions_test))"
      ]
    },
    {
      "cell_type": "markdown",
      "metadata": {},
      "source": [
        "* I think We Are Good "
      ]
    },
    {
      "cell_type": "markdown",
      "metadata": {
        "id": "xdKE-ve3P1Qy"
      },
      "source": [
        "Save my model and pipline"
      ]
    },
    {
      "cell_type": "code",
      "execution_count": 349,
      "metadata": {
        "colab": {
          "base_uri": "https://localhost:8080/"
        },
        "id": "Q6C-_RGHPEqa",
        "outputId": "0866c5f2-40b9-46a6-f836-a43456110f8a"
      },
      "outputs": [
        {
          "data": {
            "text/plain": [
              "['full_pipline.apk']"
            ]
          },
          "execution_count": 349,
          "metadata": {},
          "output_type": "execute_result"
        }
      ],
      "source": [
        "import joblib\n",
        "joblib.dump(tree_best , 'tree.apk')\n",
        "joblib.dump(full_pipline , 'full_pipline.apk')"
      ]
    },
    {
      "cell_type": "markdown",
      "metadata": {
        "id": "nXiCZEaoRR8T"
      },
      "source": [
        "Web App"
      ]
    },
    {
      "cell_type": "markdown",
      "metadata": {},
      "source": [
        "* Decision Tree model is overfitting the data."
      ]
    },
    {
      "cell_type": "code",
      "execution_count": 350,
      "metadata": {
        "colab": {
          "base_uri": "https://localhost:8080/"
        },
        "id": "Ts-4cOuOQpWK",
        "outputId": "c21c9307-afd6-417e-f8e8-887127be28e1"
      },
      "outputs": [
        {
          "name": "stdout",
          "output_type": "stream",
          "text": [
            "Overwriting 50startups_app.py\n"
          ]
        }
      ],
      "source": [
        "%%writefile 50startups_app.py\n",
        "\n",
        "import streamlit as st\n",
        "import joblib\n",
        "import pandas as pd\n",
        "import numpy as np\n",
        "\n",
        "# Load the model and pipeline\n",
        "tree = joblib.load('tree.apk')\n",
        "full_pipline = joblib.load('full_pipline.apk')  # Corrected the file name to 'full_pipeline.apk'\n",
        "\n",
        "# Load the data\n",
        "startups = pd.read_csv('C:/Users/hpc/OneDrive/Desktop/DT/ML/50 startups app ml/new_50startups.csv')\n",
        "\n",
        "# Title\n",
        "st.title('50 Startups Profit Prediction')\n",
        "st.write('This App predicts the Startups Profit')\n",
        "\n",
        "# Take input from user\n",
        "RD_Spend = st.slider('R&D_Spend', float(startups['R&D_Spend'].min()), float(startups['R&D_Spend'].max()))\n",
        "Administration = st.slider('Administration', float(startups['Administration'].min()), float(startups['Administration'].max()))\n",
        "Marketing_Spend = st.slider('Marketing_Spend', float(startups['Marketing_Spend'].min()), float(startups['Marketing_Spend'].max()))\n",
        "State = st.selectbox('State', ('New_York', 'California', 'Florida'))\n",
        "\n",
        "# Store the inputs as a dictionary\n",
        "user_inputs = {\n",
        "    'R&D_Spend': RD_Spend,\n",
        "    'Administration': Administration,\n",
        "    'Marketing_Spend': Marketing_Spend,\n",
        "    'State': State\n",
        "}\n",
        "\n",
        "# Transform the data into a DataFrame\n",
        "features = pd.DataFrame(user_inputs, index=[0])  \n",
        "\n",
        "# Pipeline transformation\n",
        "features_prepared = full_pipline.transform(features)\n",
        "\n",
        "# Predictions\n",
        "prediction = tree.predict(features_prepared)[0]\n",
        "\n",
        "# Display the prediction\n",
        "st.subheader('Prediction:')\n",
        "st.markdown(f'### $ {round(prediction, 2)}')  \n"
      ]
    }
  ],
  "metadata": {
    "colab": {
      "provenance": []
    },
    "kernelspec": {
      "display_name": "Python 3",
      "name": "python3"
    },
    "language_info": {
      "codemirror_mode": {
        "name": "ipython",
        "version": 3
      },
      "file_extension": ".py",
      "mimetype": "text/x-python",
      "name": "python",
      "nbconvert_exporter": "python",
      "pygments_lexer": "ipython3",
      "version": "3.12.7"
    }
  },
  "nbformat": 4,
  "nbformat_minor": 0
}
